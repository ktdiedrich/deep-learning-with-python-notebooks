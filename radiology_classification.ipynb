{
 "cells": [
  {
   "cell_type": "code",
   "execution_count": 1,
   "metadata": {},
   "outputs": [
    {
     "name": "stderr",
     "output_type": "stream",
     "text": [
      "Using TensorFlow backend.\n"
     ]
    }
   ],
   "source": [
    "import numpy as np\n",
    "import tensorflow as tf\n",
    "import keras\n",
    "from keras.utils import to_categorical\n",
    "import SimpleITK as sitk\n",
    "import os\n",
    "import matplotlib.pyplot as plt\n",
    "\n",
    "\"\"\"Classify 3D radiology images with a neural network.\n",
    "First simple classification Lung images vs. Prostate images, to develop pipeline. \n",
    "Greatly downsampled to fit 3D images on home computer GPU. \n",
    "(c) Karl Diedrich 2018 <ktdiedrich@gmail.com>\n",
    "\n",
    "Monitor GPU with\n",
    "nvidia-smi stats -d gpuUtil,memUtil\n",
    "\"\"\"\n",
    "\n",
    "def read_DICOM(dir_path):\n",
    "    'Read DICOM image from directory'\n",
    "    reader = sitk.ImageSeriesReader()\n",
    "    dicom_names = reader.GetGDCMSeriesFileNames( dir_path )\n",
    "    if len(dicom_names) > 0:\n",
    "        reader.SetFileNames(dicom_names)\n",
    "        image = reader.Execute()\n",
    "        return image\n",
    "    else:\n",
    "        return None\n",
    "\n",
    "def read_DICOMs(rootdir):\n",
    "    'Read all DICOMs in a directory tree'\n",
    "    images = list()\n",
    "    for root, subFolders, files in os.walk(rootdir):\n",
    "        for subf in subFolders:\n",
    "            try:\n",
    "                dir_path = os.path.join(root, subf)\n",
    "                image = read_DICOM(dir_path=dir_path)\n",
    "                # if image:\n",
    "                #    print(\"Read {}\".format(dir_path))\n",
    "            except:\n",
    "                pass\n",
    "                # print(\"Error reading {}\".format(dir_path))\n",
    "            if image:\n",
    "                if image.GetSize()[2] > 1:\n",
    "                    # im_array = sitk.GetArrayFromImage(image)\n",
    "                    images.append(image)\n",
    "    return images\n",
    "\n",
    "def show_slice(im, axis=1, fract=0.5):\n",
    "    'Show slice along axis at fraction of slice'\n",
    "    idx = int(im.shape[axis]*fract)\n",
    "    if axis == 0:\n",
    "        im_slice = im[idx, :, :]\n",
    "    elif axis == 1:\n",
    "        im_slice = im[:, idx, :]\n",
    "    elif axis == 2:\n",
    "        im_slice = im[:, :, idx]\n",
    "    else:\n",
    "        im_slice = im[idx, :, :]\n",
    "        \n",
    "    plt.imshow(im_slice, cmap='gray')\n",
    "    "
   ]
  },
  {
   "cell_type": "code",
   "execution_count": 2,
   "metadata": {
    "scrolled": true
   },
   "outputs": [
    {
     "name": "stdout",
     "output_type": "stream",
     "text": [
      "Lung N=89\n"
     ]
    }
   ],
   "source": [
    "# Read in lung cancer images\n",
    "lung = read_DICOMs(rootdir='/home/ktdiedrich/Documents/localData/RadiologyImages/NSCLCRadiomicsGenomics')\n",
    "print(\"Lung N={}\".format(len(lung)))"
   ]
  },
  {
   "cell_type": "code",
   "execution_count": 3,
   "metadata": {},
   "outputs": [
    {
     "name": "stdout",
     "output_type": "stream",
     "text": [
      "Prostate N=203\n"
     ]
    }
   ],
   "source": [
    "# read in prostate cancer images\n",
    "prostate = read_DICOMs(rootdir='/home/ktdiedrich/Documents/localData/RadiologyImages/ProstateFusedMRIPathology')\n",
    "print(\"Prostate N={}\".format(len(prostate)))"
   ]
  },
  {
   "cell_type": "code",
   "execution_count": 4,
   "metadata": {},
   "outputs": [
    {
     "name": "stdout",
     "output_type": "stream",
     "text": [
      "lung_labels=89, prostate_labels=203, labels=292\n"
     ]
    }
   ],
   "source": [
    "# labels\n",
    "label_name = dict()\n",
    "label_name[0] = \"Lung\"\n",
    "label_name[1] = \"Prostate\"\n",
    "lung_labels = [0] * len(lung) \n",
    "prostate_labels = [1] * len(prostate)\n",
    "labels = lung_labels + prostate_labels\n",
    "print(\"lung_labels={}, prostate_labels={}, labels={}\".format(len(lung_labels), len(prostate_labels),\n",
    "                                                            len(labels)))"
   ]
  },
  {
   "cell_type": "code",
   "execution_count": 5,
   "metadata": {},
   "outputs": [
    {
     "name": "stdout",
     "output_type": "stream",
     "text": [
      "lung[9] shape=(512, 512, 253)\n",
      "prostate[3] shape=(256, 256, 22)\n"
     ]
    },
    {
     "data": {
      "image/png": "[encoded data removed]",
      "text/plain": [
       "<Figure size 432x288 with 2 Axes>"
      ]
     },
     "metadata": {},
     "output_type": "display_data"
    }
   ],
   "source": [
    "# test view input images\n",
    "l_idx = 9\n",
    "p_idx = 3\n",
    "print(\"lung[{}] shape={}\".format(l_idx, lung[l_idx].GetSize()))\n",
    "print(\"prostate[3] shape={}\".format(prostate[p_idx].GetSize()))\n",
    "plt.subplot(1, 2, 1)\n",
    "show_slice(im=sitk.GetArrayFromImage(lung[l_idx]), axis=1)\n",
    "plt.subplot(1, 2, 2)\n",
    "show_slice(im=sitk.GetArrayFromImage(prostate[p_idx]), axis=1)"
   ]
  },
  {
   "cell_type": "code",
   "execution_count": 6,
   "metadata": {},
   "outputs": [
    {
     "name": "stdout",
     "output_type": "stream",
     "text": [
      "lung_sizes: [(512, 512, 178), (512, 512, 158), (512, 512, 72), (512, 512, 158), (512, 512, 71), (512, 512, 325), (512, 512, 178), (512, 512, 67), (512, 512, 69), (512, 512, 253)]\n",
      "prostate_sizes: [(512, 512, 350), (512, 512, 176), (128, 228, 32), (256, 256, 22), (512, 512, 26), (256, 256, 26), (256, 256, 52), (256, 256, 26), (256, 256, 26), (256, 256, 52)]\n"
     ]
    }
   ],
   "source": [
    "# check sizes of input images\n",
    "lung_sizes = [x.GetSize() for x in lung]\n",
    "prostate_sizes = [x.GetSize() for x in prostate]\n",
    "print(\"lung_sizes: {}\".format(lung_sizes[0:10]))\n",
    "print(\"prostate_sizes: {}\".format(prostate_sizes[0:10]))"
   ]
  },
  {
   "cell_type": "code",
   "execution_count": 7,
   "metadata": {
    "scrolled": true
   },
   "outputs": [
    {
     "name": "stdout",
     "output_type": "stream",
     "text": [
      "lung_median=[512, 512, 157], prostate_median=[256, 256, 33]\n"
     ]
    }
   ],
   "source": [
    "# check median size \n",
    "lung_median = [int(np.median([x.GetSize()[0] for x in lung])),\n",
    "              int(np.median([x.GetSize()[1] for x in lung])),\n",
    "              int(np.median([x.GetSize()[2] for x in lung]))]\n",
    "prostate_median = [int(np.median([x.GetSize()[0] for x in prostate])),\n",
    "                  int(np.median([x.GetSize()[1] for x in prostate])),\n",
    "                  int(np.median([x.GetSize()[2] for x in prostate]))]\n",
    "print(\"lung_median={}, prostate_median={}\".format(lung_median, prostate_median))"
   ]
  },
  {
   "cell_type": "code",
   "execution_count": 8,
   "metadata": {},
   "outputs": [],
   "source": [
    "def resample_image(itk_image, out_size=[16, 16, 4]):\n",
    "    \"\"\"Resample images to new size\n",
    "    based on https://www.programcreek.com/python/example/96383/SimpleITK.sitkNearestNeighbor \n",
    "    \"\"\"\n",
    "    original_spacing = itk_image.GetSpacing()\n",
    "    original_size = itk_image.GetSize()\n",
    "    out_spacing = [\n",
    "        original_spacing[0] * (original_size[0]/out_size[0]),\n",
    "        original_spacing[1] * (original_size[1]/out_size[1]),\n",
    "        original_spacing[2] * (original_size[2]/out_size[2])\n",
    "    ]\n",
    "    resample = sitk.ResampleImageFilter()\n",
    "    resample.SetOutputSpacing(out_spacing)\n",
    "    resample.SetSize(out_size)\n",
    "    resample.SetOutputDirection(itk_image.GetDirection())\n",
    "    resample.SetOutputOrigin(itk_image.GetOrigin())\n",
    "    resample.SetTransform(sitk.Transform())\n",
    "    resample.SetDefaultPixelValue(itk_image.GetPixelIDValue())\n",
    "    # resample.SetInterpolator(sitk.sitkNearestNeighbor)\n",
    "    resample.SetInterpolator(sitk.sitkBSpline)\n",
    "    return resample.Execute(itk_image)"
   ]
  },
  {
   "cell_type": "code",
   "execution_count": 9,
   "metadata": {},
   "outputs": [
    {
     "name": "stdout",
     "output_type": "stream",
     "text": [
      "size=(512, 512, 253) mean=-6.01e+02 sd=4.69e+02 -> size=(4, 16, 16) mean=-5.94e+02 sd=4.74e+02\n"
     ]
    },
    {
     "data": {
      "image/png": "[encoded data removed]",
      "text/plain": [
       "<Figure size 432x288 with 6 Axes>"
      ]
     },
     "metadata": {},
     "output_type": "display_data"
    }
   ],
   "source": [
    "resamp_im = lung[l_idx]\n",
    "resamp_ar = sitk.GetArrayFromImage(resamp_im)\n",
    "resampled_im = resample_image(resamp_im)\n",
    "resampled = sitk.GetArrayFromImage(resampled_im)\n",
    "print(\"size={} mean={:.3} sd={:.3} -> size={} mean={:.3} sd={:.3}\".format(resamp_im.GetSize(), \n",
    "    np.mean(resamp_ar), np.std(resamp_ar), resampled.shape, np.mean(resampled), np.std(resampled) ) )\n",
    "fract = 0.5\n",
    "plt.subplot(2, 3, 1)\n",
    "show_slice(resamp_ar, axis=0, fract=fract)\n",
    "plt.subplot(2, 3, 2)\n",
    "show_slice(resamp_ar, axis=1, fract=fract)\n",
    "plt.subplot(2, 3, 3)\n",
    "show_slice(resamp_ar, axis=2, fract=fract)\n",
    "plt.subplot(2, 3, 4)\n",
    "show_slice(resampled, axis=0, fract=fract)\n",
    "plt.subplot(2, 3, 5)\n",
    "show_slice(resampled, axis=1, fract=fract)\n",
    "plt.subplot(2, 3, 6)\n",
    "show_slice(resampled, axis=2, fract=fract)"
   ]
  },
  {
   "cell_type": "code",
   "execution_count": 10,
   "metadata": {},
   "outputs": [],
   "source": [
    "import itertools\n",
    "arrays = list()\n",
    "failed_idx = list()\n",
    "idx = 0\n",
    "for image in itertools.chain(lung, prostate):\n",
    "    try:\n",
    "        resampled = resample_image(image)\n",
    "        arrays.append(sitk.GetArrayFromImage(resampled))\n",
    "    except RuntimeError as rune:\n",
    "        failed_idx.append(idx)\n",
    "        print(rune)\n",
    "    finally:\n",
    "        idx+=1\n",
    "    "
   ]
  },
  {
   "cell_type": "code",
   "execution_count": 11,
   "metadata": {},
   "outputs": [
    {
     "name": "stdout",
     "output_type": "stream",
     "text": [
      "failed: []\n"
     ]
    },
    {
     "data": {
      "image/png": "[encoded data removed]",
      "text/plain": [
       "<Figure size 432x288 with 6 Axes>"
      ]
     },
     "metadata": {},
     "output_type": "display_data"
    }
   ],
   "source": [
    "print(\"failed: {}\".format(failed_idx))\n",
    "# print([ar.shape for ar in arrays])\n",
    "for idx in range(0, 6):\n",
    "    plt.subplot(2, 3, idx+1)\n",
    "    show_slice(arrays[idx], axis=0)"
   ]
  },
  {
   "cell_type": "code",
   "execution_count": 12,
   "metadata": {},
   "outputs": [
    {
     "name": "stdout",
     "output_type": "stream",
     "text": [
      "<class 'numpy.ndarray'>\n",
      "<class 'list'> <class 'list'>\n",
      "arrays=292, labels=292, label_cats=(292, 2)\n",
      "(292, 4, 16, 16)\n",
      "{0: 'Lung', 1: 'Prostate'}\n",
      "[[0 1 1]\n",
      " [1 1 1]\n",
      " [1 0 1]]\n"
     ]
    },
    {
     "data": {
      "image/png": "[encoded data removed]",
      "text/plain": [
       "<Figure size 432x288 with 9 Axes>"
      ]
     },
     "metadata": {},
     "output_type": "display_data"
    }
   ],
   "source": [
    "print(type(arrays[0]))\n",
    "print(\"{} {}\".format(type(arrays), type(labels)))\n",
    "import random\n",
    "array_label = list(zip(arrays, labels))\n",
    "random.shuffle(array_label)\n",
    "arrays, labels = zip(*array_label)\n",
    "label_cats = to_categorical(labels)\n",
    "print(\"arrays={}, labels={}, label_cats={}\".format(len(arrays), len(labels), label_cats.shape))\n",
    "arrays = np.array(arrays)\n",
    "print(arrays.shape)\n",
    "a = 0; b = 9\n",
    "plot_idx = 1\n",
    "print(label_name)\n",
    "print(np.array(labels[a:b]).reshape((3,3))) \n",
    "for idx in range(a, b):\n",
    "    plt.subplot(3, 3, plot_idx)\n",
    "    show_slice(arrays[idx], axis=0)\n",
    "    plot_idx+=1"
   ]
  },
  {
   "cell_type": "code",
   "execution_count": 13,
   "metadata": {},
   "outputs": [
    {
     "name": "stdout",
     "output_type": "stream",
     "text": [
      "train_images=(233, 4, 16, 16) train_labels=(233, 2) test_images=(59, 4, 16, 16) test_labels=(59, 2) max_norm=1.0\n",
      "reshape: train_images=(233, 1024) float32, test_images=(59, 1024) float32\n"
     ]
    }
   ],
   "source": [
    "from sklearn import model_selection\n",
    "max_intensity = np.max(arrays)\n",
    "norm_arrays = arrays/max_intensity\n",
    "max_norm = np.max(norm_arrays)\n",
    "train_images, test_images, train_labels, test_labels = model_selection.train_test_split(norm_arrays, \n",
    "                                        label_cats, test_size=0.2, random_state=42)\n",
    "print(\"train_images={} train_labels={} test_images={} test_labels={} max_norm={}\".format(\n",
    "    train_images.shape, train_labels.shape, test_images.shape, test_labels.shape, max_norm))\n",
    "\n",
    "from six.moves import reduce\n",
    "input_size = reduce(lambda x, y: x*y, train_images.shape[1:train_images.ndim])\n",
    "train_images = train_images.reshape( \n",
    "    train_images.shape[0], input_size).astype('float32')\n",
    "test_images = test_images.reshape(\n",
    "    test_images.shape[0], input_size).astype('float32')\n",
    "print(\"reshape: train_images={} {}, test_images={} {}\".format(\n",
    "    train_images.shape, train_images.dtype, test_images.shape, test_images.dtype))"
   ]
  },
  {
   "cell_type": "code",
   "execution_count": 14,
   "metadata": {
    "scrolled": true
   },
   "outputs": [
    {
     "name": "stdout",
     "output_type": "stream",
     "text": [
      "Epoch 1/6\n",
      "233/233 [==============================] - 1s 3ms/step - loss: 0.6122 - acc: 0.8970\n",
      "Epoch 2/6\n",
      "233/233 [==============================] - 0s 84us/step - loss: 0.4535 - acc: 0.9313\n",
      "Epoch 3/6\n",
      "233/233 [==============================] - 0s 80us/step - loss: 0.3674 - acc: 0.9399\n",
      "Epoch 4/6\n",
      "233/233 [==============================] - 0s 81us/step - loss: 0.3083 - acc: 0.9399\n",
      "Epoch 5/6\n",
      "233/233 [==============================] - 0s 81us/step - loss: 0.2664 - acc: 0.9399\n",
      "Epoch 6/6\n",
      "233/233 [==============================] - 0s 87us/step - loss: 0.2376 - acc: 0.9399\n",
      "59/59 [==============================] - 0s 385us/step\n",
      "test_acc=0.949\n"
     ]
    }
   ],
   "source": [
    "from keras import models, layers\n",
    "network = models.Sequential()\n",
    "network.add(layers.Dense(128, activation='relu', input_shape=(input_size,)))\n",
    "network.add(layers.Dense(2, activation='softmax'))\n",
    "network.compile(optimizer='rmsprop', loss='categorical_crossentropy', metrics=['accuracy'])\n",
    "network.fit(train_images, train_labels, epochs=6, batch_size=18)\n",
    "test_loss, test_acc = network.evaluate(test_images, test_labels)\n",
    "print('test_acc={:.3}'.format(test_acc))"
   ]
  },
  {
   "cell_type": "code",
   "execution_count": 15,
   "metadata": {},
   "outputs": [],
   "source": [
    "# monitor GPU with nvidia-smi stats "
   ]
  },
  {
   "cell_type": "code",
   "execution_count": null,
   "metadata": {},
   "outputs": [],
   "source": []
  }
 ],
 "metadata": {
  "kernelspec": {
   "display_name": "Python 3",
   "language": "python",
   "name": "python3"
  },
  "language_info": {
   "codemirror_mode": {
    "name": "ipython",
    "version": 3
   },
   "file_extension": ".py",
   "mimetype": "text/x-python",
   "name": "python",
   "nbconvert_exporter": "python",
   "pygments_lexer": "ipython3",
   "version": "3.6.4"
  }
 },
 "nbformat": 4,
 "nbformat_minor": 2
}
