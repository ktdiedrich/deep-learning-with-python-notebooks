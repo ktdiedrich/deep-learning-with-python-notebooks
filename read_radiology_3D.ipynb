{
 "cells": [
  {
   "cell_type": "code",
   "execution_count": 1,
   "metadata": {},
   "outputs": [
    {
     "name": "stderr",
     "output_type": "stream",
     "text": [
      "Using TensorFlow backend.\n"
     ]
    }
   ],
   "source": [
    "import numpy as np\n",
    "import tensorflow as tf\n",
    "import keras\n",
    "from keras.utils import to_categorical\n",
    "import SimpleITK as sitk\n",
    "import os\n",
    "import matplotlib.pyplot as plt\n",
    "\n",
    "\"\"\"Classify 3D radiology images with a neural network.\n",
    "First simple classification Kidney images vs. Prostate images, to develop pipeline. \n",
    "Greatly downsampled to fit 3D images on home computer GPU. \n",
    "(c) Karl Diedrich 2018 <ktdiedrich@gmail.com>\n",
    "\"\"\"\n",
    "\n",
    "def read_DICOM(dir_path):\n",
    "    'Read DICOM image from directory'\n",
    "    reader = sitk.ImageSeriesReader()\n",
    "    dicom_names = reader.GetGDCMSeriesFileNames( dir_path )\n",
    "    if len(dicom_names) > 0:\n",
    "        reader.SetFileNames(dicom_names)\n",
    "        image = reader.Execute()\n",
    "        return image\n",
    "    else:\n",
    "        return None\n",
    "\n",
    "def read_DICOMs(rootdir):\n",
    "    'Read all DICOMs in a directory tree'\n",
    "    images = list()\n",
    "    for root, subFolders, files in os.walk(rootdir):\n",
    "        for subf in subFolders:\n",
    "            try:\n",
    "                dir_path = os.path.join(root, subf)\n",
    "                image = read_DICOM(dir_path=dir_path)\n",
    "                # if image:\n",
    "                #    print(\"Read {}\".format(dir_path))\n",
    "            except:\n",
    "                pass\n",
    "                # print(\"Error reading {}\".format(dir_path))\n",
    "            if image:\n",
    "                if image.GetSize()[2] > 1:\n",
    "                    # im_array = sitk.GetArrayFromImage(image)\n",
    "                    images.append(image)\n",
    "    return images\n",
    "\n",
    "def show_slice(im, axis=1, fract=0.5):\n",
    "    'Show slice along axis at fraction of slice'\n",
    "    idx = int(im.shape[axis]*fract)\n",
    "    if axis == 0:\n",
    "        im_slice = im[idx, :, :]\n",
    "    elif axis == 1:\n",
    "        im_slice = im[:, idx, :]\n",
    "    elif axis == 2:\n",
    "        im_slice = im[:, :, idx]\n",
    "    else:\n",
    "        im_slice = im[idx, :, :]\n",
    "        \n",
    "    plt.imshow(im_slice, cmap='gray')\n",
    "    "
   ]
  },
  {
   "cell_type": "code",
   "execution_count": 2,
   "metadata": {},
   "outputs": [],
   "source": [
    "LIDC0001 = read_DICOM('/home/ktdiedrich/Documents/localData/RadiologyImages/LIDC-IDRI/LIDC-IDRI/LIDC-IDRI-0001/01-01-2000-30178/3000566-03192')"
   ]
  },
  {
   "cell_type": "code",
   "execution_count": 3,
   "metadata": {},
   "outputs": [
    {
     "name": "stdout",
     "output_type": "stream",
     "text": [
      "Image (0x563b6baca2d0)\n",
      "  RTTI typeinfo:   itk::Image<int, 3u>\n",
      "  Reference Count: 1\n",
      "  Modified Time: 5389\n",
      "  Debug: Off\n",
      "  Object Name: \n",
      "  Observers: \n",
      "    none\n",
      "  Source: (none)\n",
      "  Source output name: (none)\n",
      "  Release Data: Off\n",
      "  Data Released: False\n",
      "  Global Release Data: Off\n",
      "  PipelineMTime: 932\n",
      "  UpdateMTime: 5388\n",
      "  RealTimeStamp: 0 seconds \n",
      "  LargestPossibleRegion: \n",
      "    Dimension: 3\n",
      "    Index: [0, 0, 0]\n",
      "    Size: [512, 512, 133]\n",
      "  BufferedRegion: \n",
      "    Dimension: 3\n",
      "    Index: [0, 0, 0]\n",
      "    Size: [512, 512, 133]\n",
      "  RequestedRegion: \n",
      "    Dimension: 3\n",
      "    Index: [0, 0, 0]\n",
      "    Size: [512, 512, 133]\n",
      "  Spacing: [0.703125, 0.703125, 2.5]\n",
      "  Origin: [-166, -171.7, -340]\n",
      "  Direction: \n",
      "1 0 0\n",
      "0 1 0\n",
      "0 0 1\n",
      "\n",
      "  IndexToPointMatrix: \n",
      "0.703125 0 0\n",
      "0 0.703125 0\n",
      "0 0 2.5\n",
      "\n",
      "  PointToIndexMatrix: \n",
      "1.42222 0 0\n",
      "0 1.42222 0\n",
      "0 0 0.4\n",
      "\n",
      "  Inverse Direction: \n",
      "1 0 0\n",
      "0 1 0\n",
      "0 0 1\n",
      "\n",
      "  PixelContainer: \n",
      "    ImportImageContainer (0x563b6ba066b0)\n",
      "      RTTI typeinfo:   itk::ImportImageContainer<unsigned long, int>\n",
      "      Reference Count: 1\n",
      "      Modified Time: 995\n",
      "      Debug: Off\n",
      "      Object Name: \n",
      "      Observers: \n",
      "        none\n",
      "      Pointer: 0x7feb0245a010\n",
      "      Container manages memory: true\n",
      "      Size: 34865152\n",
      "      Capacity: 34865152\n",
      "\n"
     ]
    }
   ],
   "source": [
    "print(LIDC0001)"
   ]
  },
  {
   "cell_type": "code",
   "execution_count": 4,
   "metadata": {},
   "outputs": [
    {
     "name": "stdout",
     "output_type": "stream",
     "text": [
      "(512, 512, 133)\n"
     ]
    }
   ],
   "source": [
    "print(LIDC0001.GetSize())"
   ]
  },
  {
   "cell_type": "code",
   "execution_count": 9,
   "metadata": {},
   "outputs": [
    {
     "data": {
      "image/png": "[encoded data removed]",
      "text/plain": [
       "<Figure size 432x288 with 3 Axes>"
      ]
     },
     "metadata": {},
     "output_type": "display_data"
    }
   ],
   "source": [
    "plt.subplot(1, 3, 1)\n",
    "show_slice(im=sitk.GetArrayFromImage(LIDC0001), axis=0)\n",
    "plt.subplot(1, 3, 2)\n",
    "show_slice(im=sitk.GetArrayFromImage(LIDC0001), axis=1)\n",
    "plt.subplot(1, 3, 3)\n",
    "show_slice(im=sitk.GetArrayFromImage(LIDC0001), axis=2)"
   ]
  },
  {
   "cell_type": "code",
   "execution_count": null,
   "metadata": {},
   "outputs": [],
   "source": []
  },
  {
   "cell_type": "code",
   "execution_count": null,
   "metadata": {},
   "outputs": [],
   "source": []
  }
 ],
 "metadata": {
  "kernelspec": {
   "display_name": "Python 3",
   "language": "python",
   "name": "python3"
  },
  "language_info": {
   "codemirror_mode": {
    "name": "ipython",
    "version": 3
   },
   "file_extension": ".py",
   "mimetype": "text/x-python",
   "name": "python",
   "nbconvert_exporter": "python",
   "pygments_lexer": "ipython3",
   "version": "3.6.4"
  }
 },
 "nbformat": 4,
 "nbformat_minor": 2
}
