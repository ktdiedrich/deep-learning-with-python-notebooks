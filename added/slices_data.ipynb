{
 "cells": [
  {
   "cell_type": "code",
   "execution_count": 1,
   "metadata": {},
   "outputs": [
    {
     "name": "stderr",
     "output_type": "stream",
     "text": [
      "Using TensorFlow backend.\n"
     ]
    },
    {
     "name": "stdout",
     "output_type": "stream",
     "text": [
      "/home/ktdiedrich/Documents/localData/RadiologyImages/LIDC-IDRI/slice_images/xray\n",
      "axis xray median Y 2022 X 2022\n",
      "/home/ktdiedrich/Documents/localData/RadiologyImages/LIDC-IDRI/slice_images/0\n",
      "axis 0 median Y 512 X 512\n",
      "/home/ktdiedrich/Documents/localData/RadiologyImages/LIDC-IDRI/slice_images/2\n",
      "axis 2 median Y 203 X 512\n",
      "/home/ktdiedrich/Documents/localData/RadiologyImages/LIDC-IDRI/slice_images/1\n",
      "axis 1 median Y 203 X 512\n"
     ]
    }
   ],
   "source": [
    "import os, tensorflow as tf, keras, cv2, numpy as np\n",
    "import matplotlib.pyplot as plt\n",
    "\n",
    "slices_dir = '/home/ktdiedrich/Documents/localData/RadiologyImages/LIDC-IDRI/slice_images'\n",
    "\n",
    "slice_subs = os.listdir(slices_dir)\n",
    "axises_images = dict()\n",
    "for sub in slice_subs:\n",
    "    axis_images = list()\n",
    "    slice_dir = os.path.join(slices_dir, sub)\n",
    "    print(slice_dir)\n",
    "    file_names = os.listdir(slice_dir)\n",
    "    for fname in file_names:\n",
    "        fpath = os.path.join(slice_dir, fname)\n",
    "        axis_img = cv2.imread(fpath, cv2.COLOR_RGB2GRAY)\n",
    "        axis_images.append(axis_img[:,:,0])\n",
    "    axises_images[sub] = axis_images\n",
    "    dim_y = [im.shape[0] for im in axis_images]\n",
    "    dim_x = [im.shape[1] for im in axis_images]\n",
    "    dim_y = int(np.median(dim_y))\n",
    "    dim_x = int(np.median(dim_x))\n",
    "    print(\"axis {} median Y {} X {}\".format(sub, dim_y, dim_x))"
   ]
  },
  {
   "cell_type": "code",
   "execution_count": 2,
   "metadata": {},
   "outputs": [
    {
     "name": "stdout",
     "output_type": "stream",
     "text": [
      "axis keys dict_keys(['xray', '0', '2', '1'])\n"
     ]
    }
   ],
   "source": [
    "axis_keys = axises_images.keys()\n",
    "print(\"axis keys {}\".format(axis_keys))\n"
   ]
  },
  {
   "cell_type": "code",
   "execution_count": null,
   "metadata": {},
   "outputs": [],
   "source": [
    "\n"
   ]
  }
 ],
 "metadata": {
  "kernelspec": {
   "display_name": "Python 3",
   "language": "python",
   "name": "python3"
  },
  "language_info": {
   "codemirror_mode": {
    "name": "ipython",
    "version": 3
   },
   "file_extension": ".py",
   "mimetype": "text/x-python",
   "name": "python",
   "nbconvert_exporter": "python",
   "pygments_lexer": "ipython3",
   "version": "3.7.6"
  }
 },
 "nbformat": 4,
 "nbformat_minor": 2
}
