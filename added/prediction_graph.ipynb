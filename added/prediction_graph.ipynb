{
 "cells": [
  {
   "cell_type": "code",
   "execution_count": 43,
   "metadata": {},
   "outputs": [],
   "source": [
    "from sklearn import datasets\n",
    "import numpy as np\n",
    "data = datasets.load_breast_cancer()"
   ]
  },
  {
   "cell_type": "code",
   "execution_count": 44,
   "metadata": {},
   "outputs": [
    {
     "name": "stdout",
     "output_type": "stream",
     "text": [
      "(30,)\n",
      "['mean radius' 'mean texture' 'mean perimeter' 'mean area'\n",
      " 'mean smoothness' 'mean compactness' 'mean concavity'\n",
      " 'mean concave points' 'mean symmetry' 'mean fractal dimension'\n",
      " 'radius error' 'texture error' 'perimeter error' 'area error'\n",
      " 'smoothness error' 'compactness error' 'concavity error'\n",
      " 'concave points error' 'symmetry error' 'fractal dimension error'\n",
      " 'worst radius' 'worst texture' 'worst perimeter' 'worst area'\n",
      " 'worst smoothness' 'worst compactness' 'worst concavity'\n",
      " 'worst concave points' 'worst symmetry' 'worst fractal dimension']\n"
     ]
    }
   ],
   "source": [
    "print(data.feature_names.shape)\n",
    "print(data.feature_names)"
   ]
  },
  {
   "cell_type": "code",
   "execution_count": 45,
   "metadata": {},
   "outputs": [
    {
     "data": {
      "text/plain": [
       "(569,)"
      ]
     },
     "execution_count": 45,
     "metadata": {},
     "output_type": "execute_result"
    }
   ],
   "source": [
    "data.target.shape"
   ]
  },
  {
   "cell_type": "code",
   "execution_count": 46,
   "metadata": {},
   "outputs": [
    {
     "data": {
      "text/plain": [
       "array(['malignant', 'benign'], dtype='<U9')"
      ]
     },
     "execution_count": 46,
     "metadata": {},
     "output_type": "execute_result"
    }
   ],
   "source": [
    "data.target_names"
   ]
  },
  {
   "cell_type": "code",
   "execution_count": 47,
   "metadata": {},
   "outputs": [
    {
     "data": {
      "text/plain": [
       "(569, 30)"
      ]
     },
     "execution_count": 47,
     "metadata": {},
     "output_type": "execute_result"
    }
   ],
   "source": [
    "data.data.shape"
   ]
  },
  {
   "cell_type": "code",
   "execution_count": 48,
   "metadata": {},
   "outputs": [
    {
     "data": {
      "text/plain": [
       "array([[  17.99,   10.38,  122.8 , 1001.  ],\n",
       "       [  20.57,   17.77,  132.9 , 1326.  ],\n",
       "       [  19.69,   21.25,  130.  , 1203.  ],\n",
       "       [  11.42,   20.38,   77.58,  386.1 ],\n",
       "       [  20.29,   14.34,  135.1 , 1297.  ]])"
      ]
     },
     "execution_count": 48,
     "metadata": {},
     "output_type": "execute_result"
    }
   ],
   "source": [
    "data.data[0:5, 0:4]"
   ]
  },
  {
   "cell_type": "code",
   "execution_count": 49,
   "metadata": {},
   "outputs": [],
   "source": [
    "from keras.utils import to_categorical\n",
    "one_hot_targets = to_categorical(data.target)"
   ]
  },
  {
   "cell_type": "code",
   "execution_count": null,
   "metadata": {},
   "outputs": [],
   "source": []
  },
  {
   "cell_type": "code",
   "execution_count": 50,
   "metadata": {},
   "outputs": [
    {
     "data": {
      "text/plain": [
       "array([0, 0, 0, 0, 0])"
      ]
     },
     "execution_count": 50,
     "metadata": {},
     "output_type": "execute_result"
    }
   ],
   "source": [
    "data.target[0:5]"
   ]
  },
  {
   "cell_type": "code",
   "execution_count": 51,
   "metadata": {},
   "outputs": [
    {
     "data": {
      "text/plain": [
       "(569, 2)"
      ]
     },
     "execution_count": 51,
     "metadata": {},
     "output_type": "execute_result"
    }
   ],
   "source": [
    "one_hot_targets.shape"
   ]
  },
  {
   "cell_type": "code",
   "execution_count": 52,
   "metadata": {},
   "outputs": [
    {
     "data": {
      "text/plain": [
       "array([[1., 0.],\n",
       "       [1., 0.],\n",
       "       [1., 0.],\n",
       "       [1., 0.],\n",
       "       [1., 0.]], dtype=float32)"
      ]
     },
     "execution_count": 52,
     "metadata": {},
     "output_type": "execute_result"
    }
   ],
   "source": [
    "one_hot_targets[0:5]"
   ]
  },
  {
   "cell_type": "code",
   "execution_count": 53,
   "metadata": {},
   "outputs": [],
   "source": [
    "col_means = data.data.mean(axis=0)\n",
    "col_stds = data.data.std(axis=0)"
   ]
  },
  {
   "cell_type": "code",
   "execution_count": 54,
   "metadata": {},
   "outputs": [
    {
     "data": {
      "text/plain": [
       "61.890712339519624"
      ]
     },
     "execution_count": 54,
     "metadata": {},
     "output_type": "execute_result"
    }
   ],
   "source": [
    "np.mean(data.data)"
   ]
  },
  {
   "cell_type": "code",
   "execution_count": 55,
   "metadata": {},
   "outputs": [
    {
     "data": {
      "text/plain": [
       "228.29740508276657"
      ]
     },
     "execution_count": 55,
     "metadata": {},
     "output_type": "execute_result"
    }
   ],
   "source": [
    "np.std(data.data)"
   ]
  },
  {
   "cell_type": "code",
   "execution_count": 56,
   "metadata": {},
   "outputs": [],
   "source": [
    "norm_data = data.data - col_means\n",
    "norm_data = norm_data/col_stds"
   ]
  },
  {
   "cell_type": "code",
   "execution_count": 57,
   "metadata": {},
   "outputs": [
    {
     "data": {
      "text/plain": [
       "-6.118909323768877e-16"
      ]
     },
     "execution_count": 57,
     "metadata": {},
     "output_type": "execute_result"
    }
   ],
   "source": [
    "np.mean(norm_data)"
   ]
  },
  {
   "cell_type": "code",
   "execution_count": 58,
   "metadata": {},
   "outputs": [
    {
     "data": {
      "text/plain": [
       "1.0"
      ]
     },
     "execution_count": 58,
     "metadata": {},
     "output_type": "execute_result"
    }
   ],
   "source": [
    "np.std(norm_data)"
   ]
  },
  {
   "cell_type": "code",
   "execution_count": 59,
   "metadata": {},
   "outputs": [
    {
     "name": "stdout",
     "output_type": "stream",
     "text": [
      "(455, 30) (114, 30): (455,) (114,)\n"
     ]
    }
   ],
   "source": [
    "from sklearn.model_selection import train_test_split\n",
    "X_train, X_test, y_train, y_test  = train_test_split(norm_data, data.target, \n",
    "                                                     shuffle=True, random_state=42,\n",
    "                                                    test_size=.2)\n",
    "print(\"{} {}: {} {}\".format(X_train.shape, X_test.shape, y_train.shape, y_test.shape))"
   ]
  },
  {
   "cell_type": "code",
   "execution_count": 60,
   "metadata": {},
   "outputs": [],
   "source": [
    "from keras import models\n",
    "from keras import layers\n",
    "\n",
    "def build_model(shape):\n",
    "    model = models.Sequential()\n",
    "    model.add(layers.Dense(64, activation='relu', input_shape=shape))\n",
    "    model.add(layers.Dense(1, activation='sigmoid'))\n",
    "    model.compile(optimizer='rmsprop', loss='mse', metrics=['acc'])\n",
    "    return model"
   ]
  },
  {
   "cell_type": "code",
   "execution_count": 61,
   "metadata": {},
   "outputs": [],
   "source": [
    "model = build_model(shape=(data.data.shape[1],))"
   ]
  },
  {
   "cell_type": "code",
   "execution_count": 62,
   "metadata": {},
   "outputs": [
    {
     "name": "stdout",
     "output_type": "stream",
     "text": [
      "_________________________________________________________________\n",
      "Layer (type)                 Output Shape              Param #   \n",
      "=================================================================\n",
      "dense_5 (Dense)              (None, 64)                1984      \n",
      "_________________________________________________________________\n",
      "dense_6 (Dense)              (None, 1)                 65        \n",
      "=================================================================\n",
      "Total params: 2,049\n",
      "Trainable params: 2,049\n",
      "Non-trainable params: 0\n",
      "_________________________________________________________________\n"
     ]
    }
   ],
   "source": [
    "model.summary()"
   ]
  },
  {
   "cell_type": "code",
   "execution_count": 63,
   "metadata": {},
   "outputs": [
    {
     "name": "stdout",
     "output_type": "stream",
     "text": [
      "Train on 364 samples, validate on 91 samples\n",
      "Epoch 1/20\n",
      "364/364 [==============================] - 0s 422us/step - loss: 0.1438 - acc: 0.8159 - val_loss: 0.0944 - val_acc: 0.9231\n",
      "Epoch 2/20\n",
      "364/364 [==============================] - 0s 57us/step - loss: 0.0720 - acc: 0.9451 - val_loss: 0.0663 - val_acc: 0.9121\n",
      "Epoch 3/20\n",
      "364/364 [==============================] - 0s 60us/step - loss: 0.0519 - acc: 0.9643 - val_loss: 0.0550 - val_acc: 0.9341\n",
      "Epoch 4/20\n",
      "364/364 [==============================] - 0s 51us/step - loss: 0.0418 - acc: 0.9670 - val_loss: 0.0473 - val_acc: 0.9451\n",
      "Epoch 5/20\n",
      "364/364 [==============================] - 0s 53us/step - loss: 0.0348 - acc: 0.9670 - val_loss: 0.0434 - val_acc: 0.9451\n",
      "Epoch 6/20\n",
      "364/364 [==============================] - 0s 52us/step - loss: 0.0300 - acc: 0.9780 - val_loss: 0.0403 - val_acc: 0.9451\n",
      "Epoch 7/20\n",
      "364/364 [==============================] - 0s 69us/step - loss: 0.0261 - acc: 0.9808 - val_loss: 0.0373 - val_acc: 0.9560\n",
      "Epoch 8/20\n",
      "364/364 [==============================] - 0s 54us/step - loss: 0.0228 - acc: 0.9835 - val_loss: 0.0362 - val_acc: 0.9670\n",
      "Epoch 9/20\n",
      "364/364 [==============================] - 0s 53us/step - loss: 0.0207 - acc: 0.9835 - val_loss: 0.0348 - val_acc: 0.9560\n",
      "Epoch 10/20\n",
      "364/364 [==============================] - 0s 56us/step - loss: 0.0190 - acc: 0.9863 - val_loss: 0.0338 - val_acc: 0.9670\n",
      "Epoch 11/20\n",
      "364/364 [==============================] - 0s 55us/step - loss: 0.0175 - acc: 0.9835 - val_loss: 0.0329 - val_acc: 0.9560\n",
      "Epoch 12/20\n",
      "364/364 [==============================] - 0s 54us/step - loss: 0.0164 - acc: 0.9863 - val_loss: 0.0318 - val_acc: 0.9670\n",
      "Epoch 13/20\n",
      "364/364 [==============================] - 0s 52us/step - loss: 0.0152 - acc: 0.9863 - val_loss: 0.0309 - val_acc: 0.9560\n",
      "Epoch 14/20\n",
      "364/364 [==============================] - 0s 52us/step - loss: 0.0144 - acc: 0.9890 - val_loss: 0.0301 - val_acc: 0.9780\n",
      "Epoch 15/20\n",
      "364/364 [==============================] - 0s 54us/step - loss: 0.0135 - acc: 0.9890 - val_loss: 0.0297 - val_acc: 0.9780\n",
      "Epoch 16/20\n",
      "364/364 [==============================] - 0s 55us/step - loss: 0.0129 - acc: 0.9890 - val_loss: 0.0293 - val_acc: 0.9670\n",
      "Epoch 17/20\n",
      "364/364 [==============================] - 0s 54us/step - loss: 0.0123 - acc: 0.9890 - val_loss: 0.0285 - val_acc: 0.9670\n",
      "Epoch 18/20\n",
      "364/364 [==============================] - 0s 56us/step - loss: 0.0117 - acc: 0.9890 - val_loss: 0.0286 - val_acc: 0.9670\n",
      "Epoch 19/20\n",
      "364/364 [==============================] - 0s 53us/step - loss: 0.0112 - acc: 0.9890 - val_loss: 0.0288 - val_acc: 0.9560\n",
      "Epoch 20/20\n",
      "364/364 [==============================] - 0s 58us/step - loss: 0.0107 - acc: 0.9890 - val_loss: 0.0283 - val_acc: 0.9560\n"
     ]
    }
   ],
   "source": [
    "history = model.fit(X_train, y_train, batch_size=30, verbose=1, validation_split=0.2, epochs=20)\n"
   ]
  },
  {
   "cell_type": "code",
   "execution_count": null,
   "metadata": {},
   "outputs": [],
   "source": []
  },
  {
   "cell_type": "code",
   "execution_count": null,
   "metadata": {},
   "outputs": [],
   "source": []
  },
  {
   "cell_type": "code",
   "execution_count": null,
   "metadata": {},
   "outputs": [],
   "source": []
  }
 ],
 "metadata": {
  "kernelspec": {
   "display_name": "Python 3",
   "language": "python",
   "name": "python3"
  },
  "language_info": {
   "codemirror_mode": {
    "name": "ipython",
    "version": 3
   },
   "file_extension": ".py",
   "mimetype": "text/x-python",
   "name": "python",
   "nbconvert_exporter": "python",
   "pygments_lexer": "ipython3",
   "version": "3.6.8"
  }
 },
 "nbformat": 4,
 "nbformat_minor": 2
}
